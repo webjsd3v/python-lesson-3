{
 "cells": [
  {
   "cell_type": "code",
   "execution_count": 1,
   "id": "f7bd6ec9-12ca-46fd-bee3-2ffb14d5423e",
   "metadata": {},
   "outputs": [
    {
     "name": "stdout",
     "output_type": "stream",
     "text": [
      "Сумма чисел от 5 до 10 включительно: 45\n"
     ]
    }
   ],
   "source": [
    "def sum_distance(from_val, to_val):\n",
    "    if from_val > to_val:\n",
    "        from_val, to_val = to_val, from_val\n",
    "    result = sum(range(from_val, to_val + 1))\n",
    "    return result\n",
    "from_value = 5\n",
    "to_value = 10\n",
    "result_sum = sum_distance(from_value, to_value)\n",
    "print(f\"Сумма чисел от {from_value} до {to_value} включительно: {result_sum}\")"
   ]
  },
  {
   "cell_type": "code",
   "execution_count": 2,
   "id": "d3bbd513-77b0-4553-bb49-b07025934c4b",
   "metadata": {},
   "outputs": [
    {
     "name": "stdout",
     "output_type": "stream",
     "text": [
      "Результат: вет Мирвет Мир\n"
     ]
    }
   ],
   "source": [
    "def trim_and_repeat(input_string, offset=0, repetitions=1):\n",
    "    trimmed_string = input_string[offset:]\n",
    "    repeated_string = trimmed_string * repetitions\n",
    "    return repeated_string\n",
    "\n",
    "i_str = \"Привет Мир\"\n",
    "offset_val = 3\n",
    "repetitions_val = 2\n",
    "\n",
    "result_str = trim_and_repeat(i_str, offset_val, repetitions_val)\n",
    "\n",
    "print(f\"Результат: {result_str}\")\n"
   ]
  },
  {
   "cell_type": "code",
   "execution_count": null,
   "id": "a99491d1-f3d5-4c33-8deb-e047518b574d",
   "metadata": {},
   "outputs": [],
   "source": []
  }
 ],
 "metadata": {
  "kernelspec": {
   "display_name": "Python 3 (ipykernel)",
   "language": "python",
   "name": "python3"
  },
  "language_info": {
   "codemirror_mode": {
    "name": "ipython",
    "version": 3
   },
   "file_extension": ".py",
   "mimetype": "text/x-python",
   "name": "python",
   "nbconvert_exporter": "python",
   "pygments_lexer": "ipython3",
   "version": "3.11.6"
  }
 },
 "nbformat": 4,
 "nbformat_minor": 5
}
